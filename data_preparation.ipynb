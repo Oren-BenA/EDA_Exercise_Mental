{
 "cells": [
  {
   "cell_type": "code",
   "execution_count": 1,
   "id": "c54d94bc-bce3-4d44-8e63-95e43a272f55",
   "metadata": {},
   "outputs": [],
   "source": [
    "import os\n",
    "import pandas as pd"
   ]
  },
  {
   "cell_type": "code",
   "execution_count": 2,
   "id": "1a7a9b6f-dbc2-4e5d-babb-7542fe29e8d0",
   "metadata": {},
   "outputs": [],
   "source": [
    "def get_data(direct_file_path=''):\n",
    "    \n",
    "    if direct_file_path:\n",
    "        data = pd.read_csv(direct_file_path, sep =';')\n",
    "    else:    \n",
    "        # Get the current directory\n",
    "        current_dir = os.getcwd()\n",
    "\n",
    "        # Construct the file path relative to the current directory\n",
    "        fname = 'DATASET_ExerciseInPsychiatry.csv'\n",
    "        filepath = os.path.join(current_dir, fname)\n",
    "\n",
    "        # Read the contents of the file:\n",
    "        with open(filepath, 'r') as file:\n",
    "            data = pd.read_csv(fname, sep =';')\n",
    "\n",
    "    # Set columns \n",
    "    data.columns = data.iloc[0]\n",
    "\n",
    "    # Get only the raw data rows\n",
    "    data = data[1:40+1]\n",
    "\n",
    "\n",
    "    # Replaceing ',' into '.' in the SDS, BMI, VO2MAX columns, as well as the '2' matching columns (including SDS2)\n",
    "    data.SDS.replace(to_replace = ',',value = '.',inplace = True, regex =True)\n",
    "    data.SDS2.replace(to_replace = ',',value = '.',inplace = True, regex =True)\n",
    "    data.BMI.replace(to_replace = ',',value = '.',inplace = True, regex =True)\n",
    "    data.BMI2.replace(to_replace = ',',value = '.',inplace = True, regex =True)\n",
    "    data.VO2MAX.replace(to_replace = ',',value = '.',inplace = True, regex =True)\n",
    "    data.VO2MAX2.replace(to_replace = ',',value = '.',inplace = True, regex =True)\n",
    "\n",
    "    # Replace group numbers with lables\n",
    "    data.Group = data.Group.replace('1','control').replace('2','exercise')\n",
    "\n",
    "\n",
    "    # Creating list of headers to be converted to numeric values\n",
    "    numeric_headers = data.columns.values[3:-1]\n",
    "\n",
    "\n",
    "    # for loop iterating through headers to apply pd.to_numeric method to all relevant data columns\n",
    "    for header in numeric_headers:\n",
    "      data[header] = pd.to_numeric(data[header],errors = 'coerce')\n",
    "\n",
    "\n",
    "    # Create new features: pre and post measures ratio\n",
    "    num_headers_pre = numeric_headers[1:11+1]\n",
    "    num_headers_post = numeric_headers[12:]\n",
    "    pre_post_pairs = list(zip(num_headers_pre,num_headers_post))\n",
    "\n",
    "    for i in range(len(pre_post_pairs)):\n",
    "      data['r: ' + str(pre_post_pairs[i][1])+'/'+str(pre_post_pairs[i][0])] = data[pre_post_pairs[i][1]]/data[pre_post_pairs[i][0]]\n",
    "    \n",
    "    # Finally...\n",
    "    return data"
   ]
  }
 ],
 "metadata": {
  "kernelspec": {
   "display_name": "Python 3 (ipykernel)",
   "language": "python",
   "name": "python3"
  },
  "language_info": {
   "codemirror_mode": {
    "name": "ipython",
    "version": 3
   },
   "file_extension": ".py",
   "mimetype": "text/x-python",
   "name": "python",
   "nbconvert_exporter": "python",
   "pygments_lexer": "ipython3",
   "version": "3.11.3"
  }
 },
 "nbformat": 4,
 "nbformat_minor": 5
}
